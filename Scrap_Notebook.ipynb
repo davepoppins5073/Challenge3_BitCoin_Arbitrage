{
 "cells": [
  {
   "cell_type": "code",
   "execution_count": 9,
   "id": "4cef58f2-b7f0-4c6a-9fbf-b23f6acb33d4",
   "metadata": {},
   "outputs": [],
   "source": [
    "import pandas as pd\n",
    "from pathlib import Path\n",
    "import matplotlib.pyplot as plt\n",
    "%matplotlib inline"
   ]
  },
  {
   "cell_type": "code",
   "execution_count": 10,
   "id": "f6754716-d549-4ed1-aabf-a078e0fd1ece",
   "metadata": {},
   "outputs": [],
   "source": [
    "bitstamp_path = Path(\"../Challenge3_BitCoin_Arbitrage/Resources/bitstamp.csv\")\n",
    "coinbase_path = Path(\"../Challenge3_BitCoin_Arbitrage/Resources/coinbase.csv\")"
   ]
  },
  {
   "cell_type": "code",
   "execution_count": 27,
   "id": "aede0123-9a2e-484b-bc72-91325d265eb5",
   "metadata": {},
   "outputs": [
    {
     "data": {
      "text/html": [
       "<div>\n",
       "<style scoped>\n",
       "    .dataframe tbody tr th:only-of-type {\n",
       "        vertical-align: middle;\n",
       "    }\n",
       "\n",
       "    .dataframe tbody tr th {\n",
       "        vertical-align: top;\n",
       "    }\n",
       "\n",
       "    .dataframe thead th {\n",
       "        text-align: right;\n",
       "    }\n",
       "</style>\n",
       "<table border=\"1\" class=\"dataframe\">\n",
       "  <thead>\n",
       "    <tr style=\"text-align: right;\">\n",
       "      <th></th>\n",
       "      <th>Open</th>\n",
       "      <th>High</th>\n",
       "      <th>Low</th>\n",
       "      <th>btstmp_Close</th>\n",
       "      <th>BTC Volume</th>\n",
       "      <th>USD Volume</th>\n",
       "      <th>Weighted Price</th>\n",
       "    </tr>\n",
       "    <tr>\n",
       "      <th>Timestamp</th>\n",
       "      <th></th>\n",
       "      <th></th>\n",
       "      <th></th>\n",
       "      <th></th>\n",
       "      <th></th>\n",
       "      <th></th>\n",
       "      <th></th>\n",
       "    </tr>\n",
       "  </thead>\n",
       "  <tbody>\n",
       "    <tr>\n",
       "      <th>2018-01-01 00:00:00</th>\n",
       "      <td>13681.04</td>\n",
       "      <td>13681.04</td>\n",
       "      <td>13637.93</td>\n",
       "      <td>$13646.48</td>\n",
       "      <td>3.334553</td>\n",
       "      <td>45482.128785</td>\n",
       "      <td>13639.647479</td>\n",
       "    </tr>\n",
       "    <tr>\n",
       "      <th>2018-01-01 00:01:00</th>\n",
       "      <td>13646.48</td>\n",
       "      <td>13658.75</td>\n",
       "      <td>13610.18</td>\n",
       "      <td>$13658.75</td>\n",
       "      <td>2.663188</td>\n",
       "      <td>36361.390888</td>\n",
       "      <td>13653.332816</td>\n",
       "    </tr>\n",
       "    <tr>\n",
       "      <th>2018-01-01 00:02:00</th>\n",
       "      <td>13616.93</td>\n",
       "      <td>13616.93</td>\n",
       "      <td>13610.06</td>\n",
       "      <td>$13610.22</td>\n",
       "      <td>0.084653</td>\n",
       "      <td>1152.144036</td>\n",
       "      <td>13610.136247</td>\n",
       "    </tr>\n",
       "    <tr>\n",
       "      <th>2018-01-01 00:03:00</th>\n",
       "      <td>13610.27</td>\n",
       "      <td>13639.09</td>\n",
       "      <td>13610.27</td>\n",
       "      <td>$13639.09</td>\n",
       "      <td>7.182986</td>\n",
       "      <td>97856.416478</td>\n",
       "      <td>13623.361128</td>\n",
       "    </tr>\n",
       "    <tr>\n",
       "      <th>2018-01-01 00:04:00</th>\n",
       "      <td>13635.35</td>\n",
       "      <td>13636.35</td>\n",
       "      <td>13620.00</td>\n",
       "      <td>$13620.0</td>\n",
       "      <td>1.069665</td>\n",
       "      <td>14582.660932</td>\n",
       "      <td>13632.923329</td>\n",
       "    </tr>\n",
       "  </tbody>\n",
       "</table>\n",
       "</div>"
      ],
      "text/plain": [
       "                         Open      High       Low btstmp_Close  BTC Volume  \\\n",
       "Timestamp                                                                    \n",
       "2018-01-01 00:00:00  13681.04  13681.04  13637.93    $13646.48    3.334553   \n",
       "2018-01-01 00:01:00  13646.48  13658.75  13610.18    $13658.75    2.663188   \n",
       "2018-01-01 00:02:00  13616.93  13616.93  13610.06    $13610.22    0.084653   \n",
       "2018-01-01 00:03:00  13610.27  13639.09  13610.27    $13639.09    7.182986   \n",
       "2018-01-01 00:04:00  13635.35  13636.35  13620.00     $13620.0    1.069665   \n",
       "\n",
       "                       USD Volume  Weighted Price  \n",
       "Timestamp                                          \n",
       "2018-01-01 00:00:00  45482.128785    13639.647479  \n",
       "2018-01-01 00:01:00  36361.390888    13653.332816  \n",
       "2018-01-01 00:02:00   1152.144036    13610.136247  \n",
       "2018-01-01 00:03:00  97856.416478    13623.361128  \n",
       "2018-01-01 00:04:00  14582.660932    13632.923329  "
      ]
     },
     "execution_count": 27,
     "metadata": {},
     "output_type": "execute_result"
    }
   ],
   "source": [
    "# Bitstamp and Coinbase Dataframe creation \n",
    "\n",
    "bitstamp_df = pd.read_csv(\n",
    "    bitstamp_path, \n",
    "    index_col=\"Timestamp\", \n",
    "    infer_datetime_format=True, \n",
    "    parse_dates=True\n",
    ")\n",
    "coinbase_df = pd.read_csv(\n",
    "    coinbase_path, \n",
    "    index_col=\"Timestamp\", \n",
    "    infer_datetime_format=True, \n",
    "    parse_dates=True\n",
    ")\n",
    "\n",
    "bitstamp_df.rename(columns={'Close':'btstmp_Close'}, inplace=True)\n",
    "coinbase_df.rename(columns={'Close':'coinbs_Close'}, inplace=True)"
   ]
  },
  {
   "cell_type": "code",
   "execution_count": 44,
   "id": "9a37b1f5-a7aa-41ee-bd83-2d4a0e19b215",
   "metadata": {},
   "outputs": [],
   "source": [
    "# Dropping NaN's\n",
    "bitstamp_df = bitstamp_df.dropna().copy()\n",
    "coinbase_df = coinbase_df.dropna().copy()\n",
    "\n",
    "# Dropping Duplicates\n",
    "coinbase_df = coinbase_df.drop_duplicates(keep=False)\n",
    "bitstamp_df = bitstamp_df.drop_duplicates(keep=False)\n",
    "\n",
    "# Dropping the dollar sign and setting Close columnb to float\n",
    "bitstamp_df[\"btstmp_Close\"] = bitstamp_df[\"btstmp_Close\"].str.replace(\"$\", \"\",regex=False).astype(\"float\")\n",
    "coinbase_df[\"coinbs_Close\"] = coinbase_df[\"coinbs_Close\"].str.replace(\"$\", \"\",regex=False).astype(\"float\")\n",
    "\n"
   ]
  },
  {
   "cell_type": "code",
   "execution_count": 45,
   "id": "7fd84ed2-19c9-4e15-bd87-0f803f67f792",
   "metadata": {},
   "outputs": [
    {
     "data": {
      "text/plain": [
       "coinbs_Close    float64\n",
       "btstmp_Close    float64\n",
       "dtype: object"
      ]
     },
     "execution_count": 45,
     "metadata": {},
     "output_type": "execute_result"
    }
   ],
   "source": [
    "# Use loc or iloc to select `Timestamp (the index)` and `Close` from bitstamp DataFrame\n",
    "bitstamp_sliced = bitstamp_df.loc[:,'btstmp_Close']\n",
    "coinbase_sliced = coinbase_df.loc[:,'coinbs_Close']\n",
    "\n",
    "close_prices_df = pd.concat([coinbase_sliced, bitstamp_sliced], axis=1)\n",
    "close_prices_df.dtypes\n",
    "\n",
    "#close_prices_df['coinbs_Close'].astype(\"float\")\n",
    "#close_prices_df['btstmp_Close'].astype(\"float\")\n"
   ]
  },
  {
   "cell_type": "code",
   "execution_count": 52,
   "id": "7a26eb52-7d54-4c4c-8100-f755489c430a",
   "metadata": {},
   "outputs": [
    {
     "name": "stdout",
     "output_type": "stream",
     "text": [
      "                     coinbs_Close  btstmp_Close  arbtrg_spread\n",
      "Timestamp                                                     \n",
      "2018-01-01 00:00:00      13608.49      13646.48         -37.99\n",
      "2018-01-01 00:01:00      13601.66      13658.75         -57.09\n",
      "2018-01-01 00:02:00      13580.00      13610.22         -30.22\n",
      "2018-01-01 00:03:00      13550.34      13639.09         -88.75\n",
      "2018-01-01 00:04:00      13583.44      13620.00         -36.56\n",
      "2018-01-01 00:05:00      13564.35      13610.00         -45.65\n",
      "2018-01-01 00:06:00      13539.00      13600.56         -61.56\n",
      "2018-01-01 00:07:00      13511.02      13580.00         -68.98\n",
      "2018-01-01 00:08:00      13528.52      13579.00         -50.48\n",
      "2018-01-01 00:09:00      13522.00      13565.00         -43.00\n",
      "2018-01-01 00:10:00      13500.72      13550.00         -49.28\n",
      "2018-01-01 00:11:00      13489.92      13505.52         -15.60\n",
      "2018-01-01 00:12:00      13489.91      13535.79         -45.88\n",
      "2018-01-01 00:13:00      13489.91      13545.92         -56.01\n",
      "2018-01-01 00:14:00      13489.91      13533.98         -44.07\n",
      "2018-01-01 00:15:00      13489.91      13556.99         -67.08\n",
      "2018-01-01 00:16:00      13489.91      13575.02         -85.11\n",
      "2018-01-01 00:17:00      13545.92      13590.85         -44.93\n",
      "2018-01-01 00:18:00      13598.44      13676.69         -78.25\n",
      "2018-01-01 00:19:00      13588.95      13605.06         -16.11\n",
      "2018-01-01 00:20:00      13588.01      13637.01         -49.00\n",
      "2018-01-01 00:21:00      13560.02      13534.96          25.06\n",
      "2018-01-01 00:22:00      13515.62      13521.85          -6.23\n",
      "2018-01-01 00:23:00      13525.72      13550.00         -24.28\n",
      "2018-01-01 00:24:00      13525.72      13520.70           5.02\n",
      "2018-01-01 00:25:00      13525.72      13550.00         -24.28\n",
      "2018-01-01 00:26:00      13525.72      13520.00           5.72\n",
      "2018-01-01 00:27:00      13500.00      13510.01         -10.01\n",
      "2018-01-01 00:28:00      13483.46      13511.01         -27.55\n",
      "2018-01-01 00:29:00      13530.00      13548.36         -18.36\n"
     ]
    }
   ],
   "source": [
    "close_prices_df['arbtrg_spread'] = (close_prices_df['coinbs_Close'] - close_prices_df['btstmp_Close'])\n",
    "print(close_prices_df.head(30))"
   ]
  },
  {
   "cell_type": "code",
   "execution_count": 87,
   "id": "3fc8f36b-1f69-4650-9383-3afa0414a7fd",
   "metadata": {},
   "outputs": [
    {
     "data": {
      "text/html": [
       "<div>\n",
       "<style scoped>\n",
       "    .dataframe tbody tr th:only-of-type {\n",
       "        vertical-align: middle;\n",
       "    }\n",
       "\n",
       "    .dataframe tbody tr th {\n",
       "        vertical-align: top;\n",
       "    }\n",
       "\n",
       "    .dataframe thead th {\n",
       "        text-align: right;\n",
       "    }\n",
       "</style>\n",
       "<table border=\"1\" class=\"dataframe\">\n",
       "  <thead>\n",
       "    <tr style=\"text-align: right;\">\n",
       "      <th></th>\n",
       "      <th>coinbs_Close</th>\n",
       "      <th>btstmp_Close</th>\n",
       "      <th>arbtrg_spread</th>\n",
       "    </tr>\n",
       "    <tr>\n",
       "      <th>Timestamp</th>\n",
       "      <th></th>\n",
       "      <th></th>\n",
       "      <th></th>\n",
       "    </tr>\n",
       "  </thead>\n",
       "  <tbody>\n",
       "    <tr>\n",
       "      <th>2018-01-16 19:12:00</th>\n",
       "      <td>11950.00</td>\n",
       "      <td>11599.78</td>\n",
       "      <td>350.22</td>\n",
       "    </tr>\n",
       "    <tr>\n",
       "      <th>2018-01-16 17:47:00</th>\n",
       "      <td>11350.00</td>\n",
       "      <td>11020.27</td>\n",
       "      <td>329.73</td>\n",
       "    </tr>\n",
       "    <tr>\n",
       "      <th>2018-01-01 23:26:00</th>\n",
       "      <td>13319.00</td>\n",
       "      <td>12999.01</td>\n",
       "      <td>319.99</td>\n",
       "    </tr>\n",
       "    <tr>\n",
       "      <th>2018-01-16 18:56:00</th>\n",
       "      <td>11649.99</td>\n",
       "      <td>11346.89</td>\n",
       "      <td>303.10</td>\n",
       "    </tr>\n",
       "    <tr>\n",
       "      <th>2018-01-01 23:25:00</th>\n",
       "      <td>13375.89</td>\n",
       "      <td>13082.00</td>\n",
       "      <td>293.89</td>\n",
       "    </tr>\n",
       "  </tbody>\n",
       "</table>\n",
       "</div>"
      ],
      "text/plain": [
       "                     coinbs_Close  btstmp_Close  arbtrg_spread\n",
       "Timestamp                                                     \n",
       "2018-01-16 19:12:00      11950.00      11599.78         350.22\n",
       "2018-01-16 17:47:00      11350.00      11020.27         329.73\n",
       "2018-01-01 23:26:00      13319.00      12999.01         319.99\n",
       "2018-01-16 18:56:00      11649.99      11346.89         303.10\n",
       "2018-01-01 23:25:00      13375.89      13082.00         293.89"
      ]
     },
     "metadata": {},
     "output_type": "display_data"
    }
   ],
   "source": [
    "\n",
    "filtered_prices_df = close_prices_df.loc[close_prices_df['arbtrg_spread'] > 0]\n",
    "#filtered_prices_df.shape\n",
    "#filtered_prices_df.head(30)\n",
    "\n",
    "choice_prices = filtered_prices_df.sort_values(['arbtrg_spread'], ascending=False).groupby('arbtrg_spread').head(100)\n",
    "#choice_prices = filtered_prices_df.groupby('arbtrg_spread').value.nlargest(30).reset_index()\n",
    "display(choice_prices.iloc[5:10])\n",
    "##data.iloc[0:10] # first five rows of dataframe"
   ]
  },
  {
   "cell_type": "code",
   "execution_count": 89,
   "id": "ffb86974-1b05-4414-8fcd-fa4fdd1ac790",
   "metadata": {},
   "outputs": [
    {
     "data": {
      "text/plain": [
       "(array([4.455e+04, 2.803e+03, 2.090e+02, 3.200e+01, 8.000e+00, 3.000e+00,\n",
       "        2.000e+00, 1.000e+00, 0.000e+00, 2.000e+00]),\n",
       " array([1.00000e-02, 6.06890e+01, 1.21368e+02, 1.82047e+02, 2.42726e+02,\n",
       "        3.03405e+02, 3.64084e+02, 4.24763e+02, 4.85442e+02, 5.46121e+02,\n",
       "        6.06800e+02]),\n",
       " <BarContainer object of 10 artists>)"
      ]
     },
     "execution_count": 89,
     "metadata": {},
     "output_type": "execute_result"
    },
    {
     "data": {
      "image/png": "[encoded data removed]",
      "text/plain": [
       "<Figure size 432x288 with 1 Axes>"
      ]
     },
     "metadata": {
      "needs_background": "light"
     },
     "output_type": "display_data"
    }
   ],
   "source": [
    "#plt.hist(DataFrame[‘column_name’])\n",
    "plt.hist(choice_prices['arbtrg_spread'])"
   ]
  },
  {
   "cell_type": "markdown",
   "id": "2210b84e-af41-404f-96b3-2c5c9edd7951",
   "metadata": {},
   "source": [
    "I wanted to see a distrubtion of the values in the choice_price dataframe  over the time frame therein. I wanted to show graphically that there were more days in the earlier part of q1 2018 with an arbtrg_fee > 0. I expected it to  decrease over time. "
   ]
  },
  {
   "cell_type": "code",
   "execution_count": null,
   "id": "704474b6-3081-4152-be90-0216fab2438e",
   "metadata": {},
   "outputs": [],
   "source": []
  }
 ],
 "metadata": {
  "kernelspec": {
   "display_name": "dev",
   "language": "python",
   "name": "dev"
  },
  "language_info": {
   "codemirror_mode": {
    "name": "ipython",
    "version": 3
   },
   "file_extension": ".py",
   "mimetype": "text/x-python",
   "name": "python",
   "nbconvert_exporter": "python",
   "pygments_lexer": "ipython3",
   "version": "3.9.7"
  }
 },
 "nbformat": 4,
 "nbformat_minor": 5
}
